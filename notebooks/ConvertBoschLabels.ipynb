{
 "cells": [
  {
   "cell_type": "markdown",
   "metadata": {},
   "source": [
    "# Convert Bosch Labels to keras_ssd7 repo format\n",
    "Just create the conversion once rather than doing some other glue logic. This should make the keras_ssd7 model *just work*."
   ]
  },
  {
   "cell_type": "code",
   "execution_count": 1,
   "metadata": {
    "scrolled": true
   },
   "outputs": [
    {
     "name": "stderr",
     "output_type": "stream",
     "text": [
      "Using TensorFlow backend.\n"
     ]
    },
    {
     "name": "stdout",
     "output_type": "stream",
     "text": [
      "Loaded the yaml data\n"
     ]
    }
   ],
   "source": [
    "import keras\n",
    "import pickle\n",
    "import numpy as np\n",
    "from sklearn.model_selection import train_test_split\n",
    "import math\n",
    "from sklearn import preprocessing\n",
    "import yaml\n",
    "import sys\n",
    "\n",
    "root = '/run/user/1000/gvfs/smb-share:server=j3-ms-7721,share=datasets/TrafficLights_Bosch/train'\n",
    "\n",
    "test_yaml = root + '/train.yaml'\n",
    "with open(test_yaml, 'r') as stream:\n",
    "    try:\n",
    "        dta = yaml.load(stream)\n",
    "    except yaml.YAMLError as exc:\n",
    "        print(exc)\n",
    "\n",
    "print('Loaded the yaml data')\n",
    "\n"
   ]
  },
  {
   "cell_type": "code",
   "execution_count": 2,
   "metadata": {},
   "outputs": [
    {
     "name": "stdout",
     "output_type": "stream",
     "text": [
      "{'GreenLeft', 'Red', 'RedLeft', 'Yellow', 'GreenRight', 'RedStraight', 'Green', 'GreenStraightLeft', 'RedRight', 'GreenStraightRight', 'GreenStraight', 'RedStraightLeft', 'off'}\n",
      "Label to ID mapping {'GreenLeft': 1, 'Red': 2, 'RedLeft': 3, 'Yellow': 4, 'GreenRight': 5, 'RedStraight': 6, 'Green': 7, 'GreenStraightLeft': 8, 'RedRight': 9, 'GreenStraightRight': 10, 'GreenStraight': 11, 'RedStraightLeft': 12, 'off': 13}\n",
      "Gathered  10756 boxes\n",
      "Finised with this cell\n"
     ]
    }
   ],
   "source": [
    "from random import shuffle\n",
    "#compiled_list format is 'image_name,xmin,xmax,ymin,ymax,class_id\\n'\n",
    "compiled_list=[]\n",
    "label_dict = {}\n",
    "all_labels = []\n",
    "\n",
    "def getBoundingBoxes(entry):\n",
    "    boxDict = entry['boxes']\n",
    "    rect = []\n",
    "    for b in boxDict:\n",
    "        x_min = b['x_min']\n",
    "        x_max = b['x_max']\n",
    "        y_min = b['y_min']\n",
    "        y_max = b['y_max']\n",
    "        rect.append([(math.floor(x_min),math.ceil(x_max)),(math.ceil(y_min),math.floor(y_max))])\n",
    "    return rect\n",
    "        \n",
    "def getLabels(entry):\n",
    "    boxDict = entry['boxes']\n",
    "    labels = []\n",
    "    for b in boxDict:\n",
    "        labels.append(b['label'])\n",
    "    return labels\n",
    "\n",
    "\n",
    "counter = 1\n",
    "debug = False\n",
    "for entry in dta:\n",
    "    counter += 1\n",
    "    \n",
    "    # Pull out the box and the path of the image\n",
    "    boxDict = entry['boxes']\n",
    "    path = entry['path']\n",
    "    \n",
    "    # If there are no boxes, skip the image\n",
    "    if len(boxDict) == 0:\n",
    "        continue\n",
    "\n",
    "    rect = getBoundingBoxes(entry)\n",
    "    labels = getLabels(entry)\n",
    "    \n",
    "    for bx, lbl in zip(rect,labels):\n",
    "        # Pull out the indices in the correct order\n",
    "        indices = ''\n",
    "        for b in bx:\n",
    "            indices += str(b[0]) + ',' + str(b[1]) + ','\n",
    "        # Add the labels to a list\n",
    "        all_labels.append(lbl)\n",
    "        # Add the path and indices to the list, not the labels yet\n",
    "        compiled_list.append('\"'+ path+'\"' + ',' + indices)\n",
    "    \n",
    "# Go and add the integer id for each label now\n",
    "label_id = set(all_labels)\n",
    "print(label_id)\n",
    "label_dt = {}\n",
    "for lid, idx in zip(label_id,range(1, len(label_id)+1)):\n",
    "    label_dt[lid] = idx\n",
    "print('Label to ID mapping', label_dt)\n",
    "\n",
    "for idx,l in zip(range(len(compiled_list)),all_labels):\n",
    "    compiled_list[idx] += str(label_dt[l]) + '\\n'\n",
    "\n",
    "# Shuffle the neatly ordered dataset (prior to splitting between test and train)\n",
    "shuffle(compiled_list)\n",
    "    \n",
    "print('Gathered ',len(compiled_list), 'boxes')\n",
    "print(\"Finised with this cell\")   \n",
    "with open(root+'/train_labels.csv', 'w') as f:\n",
    "    for idx in range(len(compiled_list)-3000):        \n",
    "        f.write(compiled_list[idx])\n",
    "        \n",
    "with open(root+'/val_labels.csv', 'w') as f:\n",
    "    for idx in range(len(compiled_list)-3000, len(compiled_list)):        \n",
    "        f.write(compiled_list[idx])"
   ]
  },
  {
   "cell_type": "code",
   "execution_count": 8,
   "metadata": {
    "scrolled": false
   },
   "outputs": [
    {
     "name": "stdout",
     "output_type": "stream",
     "text": [
      "[[0.47705078125, 0.48819444444444443, 0.4810546875, 0.49809027777777776], [0.49521484375, 0.4753472222222222, 0.49853515625, 0.4875], [0.507421875, 0.48663194444444446, 0.51171875, 0.5010416666666667]]\n",
      "Label to ID mapping {'RedLeft': 1, 'RedStraightLeft': 2, 'Yellow': 3, 'GreenRight': 4, 'RedRight': 5, 'GreenLeft': 6, 'GreenStraightLeft': 7, 'GreenStraight': 8, 'RedStraight': 9, 'Green': 10, 'off': 11, 'Red': 12, 'GreenStraightRight': 13}\n",
      "3153\n"
     ]
    }
   ],
   "source": [
    "import itertools\n",
    "import operator\n",
    "from random import shuffle\n",
    "from numpy import array\n",
    "from numpy import argmax\n",
    "from keras.utils import to_categorical\n",
    "\n",
    "\n",
    "from sklearn.preprocessing import LabelBinarizer\n",
    "\n",
    "\n",
    "\n",
    "#compiled_list format is 'image_name,xmin,xmax,ymin,ymax,class_id\\n'\n",
    "compiled_list=[]\n",
    "label_dict = {}\n",
    "all_labels = []\n",
    "\n",
    "def getBoundingBoxes(entry, width, height):\n",
    "    boxDict = entry['boxes']\n",
    "    rect = []\n",
    "    for b in boxDict:\n",
    "        x_min = b['x_min']\n",
    "        x_max = b['x_max']\n",
    "        y_min = b['y_min']\n",
    "        y_max = b['y_max']\n",
    "        rect.append([x_min/width,y_min/height,x_max/width,y_max/height])\n",
    "    return rect\n",
    "        \n",
    "def getLabels(entry):\n",
    "    boxDict = entry['boxes']\n",
    "    labels = []\n",
    "    for b in boxDict:\n",
    "        labels.append(b['label'])\n",
    "    return labels\n",
    "\n",
    "\n",
    "counter = 1\n",
    "debug = False\n",
    "allData = {}\n",
    "boxes = []\n",
    "for entry in dta:\n",
    "    counter += 1\n",
    "    \n",
    "    # Pull out the box and the path of the image\n",
    "    boxDict = entry['boxes']\n",
    "    path = entry['path']\n",
    "    \n",
    "    # If there are no boxes, skip the image\n",
    "    if len(boxDict) == 0:\n",
    "        continue\n",
    "    new_labels= []\n",
    "    new_boxes = []\n",
    "    rect = getBoundingBoxes(entry, 1280, 720)\n",
    "    labels = getLabels(entry)\n",
    "\n",
    "    \n",
    "    for box, lbl in zip(rect,labels):\n",
    "        # Add the labels to a list\n",
    "        all_labels.append(lbl)\n",
    "        new_labels.append(lbl)\n",
    "        new_boxes.append(box)\n",
    "\n",
    "    allData[path]=(new_boxes)\n",
    "\n",
    "    \n",
    "print(allData['./rgb/train/2017-02-03-11-44-56_los_altos_mountain_view_traffic_lights_bag/207386.png'])\n",
    "# Go and add the integer id for each label now\n",
    "label_id = set(all_labels)\n",
    "label_dt = {}\n",
    "for lid, idx in zip(label_id,range(1, len(label_id)+1)):\n",
    "    label_dt[lid] = idx\n",
    "print('Label to ID mapping', label_dt)\n",
    "\n",
    "encoder = LabelBinarizer()\n",
    "transfomed_label = encoder.fit_transform(all_labels)\n",
    "\n",
    "combined_data_set = {}\n",
    "index = 0\n",
    "for key in allData.keys():\n",
    "    tmp_lst = []\n",
    "    for box in allData[key]:\n",
    "        entry = list(itertools.chain.from_iterable([box,transfomed_label[index]]))\n",
    "        tmp_lst.append(entry)\n",
    "        index += 1\n",
    "    combined_data_set[key] = np.asarray(tmp_lst)\n",
    "\n",
    "print(len(combined_data_set))\n",
    "\n",
    "with open(root+'/train_labels.pkl', 'wb') as handle:\n",
    "    pickle.dump(combined_data_set, handle, protocol=pickle.HIGHEST_PROTOCOL)\n"
   ]
  },
  {
   "cell_type": "code",
   "execution_count": null,
   "metadata": {
    "collapsed": true
   },
   "outputs": [],
   "source": []
  }
 ],
 "metadata": {
  "kernelspec": {
   "display_name": "Python 3",
   "language": "python",
   "name": "python3"
  },
  "language_info": {
   "codemirror_mode": {
    "name": "ipython",
    "version": 3
   },
   "file_extension": ".py",
   "mimetype": "text/x-python",
   "name": "python",
   "nbconvert_exporter": "python",
   "pygments_lexer": "ipython3",
   "version": "3.6.1"
  }
 },
 "nbformat": 4,
 "nbformat_minor": 2
}
